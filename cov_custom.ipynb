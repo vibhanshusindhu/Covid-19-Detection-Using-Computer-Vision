{
  "nbformat": 4,
  "nbformat_minor": 0,
  "metadata": {
    "colab": {
      "name": "Untitled0.ipynb",
      "provenance": []
    },
    "kernelspec": {
      "name": "python3",
      "display_name": "Python 3"
    }
  },
  "cells": [
    {
      "cell_type": "markdown",
      "metadata": {
        "id": "_uJyQZiaIEOy"
      },
      "source": [
        "**Get the runtime details**"
      ]
    },
    {
      "cell_type": "code",
      "metadata": {
        "id": "ug9w23rqyygI"
      },
      "source": [
        "%cat/etc/lsb-release"
      ],
      "execution_count": null,
      "outputs": []
    },
    {
      "cell_type": "markdown",
      "metadata": {
        "id": "Pyo1cuJWv8Uj"
      },
      "source": [
        "**Update the repo list**\n"
      ]
    },
    {
      "cell_type": "code",
      "metadata": {
        "id": "URUkar2FzHFK"
      },
      "source": [
        "!apt-get update"
      ],
      "execution_count": null,
      "outputs": []
    },
    {
      "cell_type": "markdown",
      "metadata": {
        "id": "rVeDSF02wC9l"
      },
      "source": [
        "**show the current working directory**"
      ]
    },
    {
      "cell_type": "code",
      "metadata": {
        "id": "R0Lhbj2JzLyD"
      },
      "source": [
        "%pwd"
      ],
      "execution_count": null,
      "outputs": []
    },
    {
      "cell_type": "markdown",
      "metadata": {
        "id": "hxgh2JPTwLh1"
      },
      "source": [
        "**Unzip the darknet zip file to the /content folder**"
      ]
    },
    {
      "cell_type": "code",
      "metadata": {
        "id": "eW_wcAGIzRKM"
      },
      "source": [
        "!unzip \"/content/drive/My Drive/custom_cov_model/darknet.zip\""
      ],
      "execution_count": null,
      "outputs": []
    },
    {
      "cell_type": "markdown",
      "metadata": {
        "id": "4rOXcDGUwiXl"
      },
      "source": [
        "**Go inside the darknet folder of our runtime**"
      ]
    },
    {
      "cell_type": "code",
      "metadata": {
        "id": "aH85m09_zYMa"
      },
      "source": [
        "%cd /content/darknet"
      ],
      "execution_count": null,
      "outputs": []
    },
    {
      "cell_type": "markdown",
      "metadata": {
        "id": "ywPdkC9VwxN1"
      },
      "source": [
        "**Install dos2unix to convert dos files to unix encoding**"
      ]
    },
    {
      "cell_type": "code",
      "metadata": {
        "id": "Z-oxITc-zcSq"
      },
      "source": [
        "!sudo apt install dos2unix"
      ],
      "execution_count": null,
      "outputs": []
    },
    {
      "cell_type": "markdown",
      "metadata": {
        "id": "uxCf8iqOw2vw"
      },
      "source": [
        "**Convert all files in darknet folder to unix encoding**"
      ]
    },
    {
      "cell_type": "code",
      "metadata": {
        "id": "5QpKNIShzhMp"
      },
      "source": [
        "!find . -type f -print0 | xargs -0 dos2unix"
      ],
      "execution_count": null,
      "outputs": []
    },
    {
      "cell_type": "markdown",
      "metadata": {
        "id": "NSwu34Imw-Nl"
      },
      "source": [
        "**Give executable permission for files in /content/darknet**"
      ]
    },
    {
      "cell_type": "code",
      "metadata": {
        "id": "aKGWx6KPzmUN"
      },
      "source": [
        "!chmod +x /content/darknet"
      ],
      "execution_count": null,
      "outputs": []
    },
    {
      "cell_type": "markdown",
      "metadata": {
        "id": "8MmMrHcjxLa-"
      },
      "source": [
        "**make sure of the current working directory**"
      ]
    },
    {
      "cell_type": "code",
      "metadata": {
        "id": "_ZcjrpClzsQg"
      },
      "source": [
        "%pwd"
      ],
      "execution_count": null,
      "outputs": []
    },
    {
      "cell_type": "markdown",
      "metadata": {
        "id": "qqQh5fzpxSVO"
      },
      "source": [
        "**Compile the darknet framework**"
      ]
    },
    {
      "cell_type": "code",
      "metadata": {
        "id": "3UX60LNqzw27"
      },
      "source": [
        "!make"
      ],
      "execution_count": null,
      "outputs": []
    },
    {
      "cell_type": "markdown",
      "metadata": {
        "id": "b8Dt89AcyJqU"
      },
      "source": [
        "**Test the darknet framework with sample object detection**"
      ]
    },
    {
      "cell_type": "code",
      "metadata": {
        "id": "dDZXQ-yrz05P"
      },
      "source": [
        "!./darknet detector test cfg/coco.data cfg/yolov4.cfg yolov4.weights data/person.jpg"
      ],
      "execution_count": null,
      "outputs": []
    },
    {
      "cell_type": "markdown",
      "metadata": {
        "id": "lb0ClT530LYv"
      },
      "source": [
        "**Remove the backup folder of darknet in runtime**"
      ]
    },
    {
      "cell_type": "code",
      "metadata": {
        "id": "o0kq5kDSz6zQ"
      },
      "source": [
        "!rm /content/darknet/backup -r"
      ],
      "execution_count": null,
      "outputs": []
    },
    {
      "cell_type": "markdown",
      "metadata": {
        "id": "gA4rXauC0j91"
      },
      "source": [
        "**Create a symbolic link from runtime darknet folder to google drive backup folder with the name 'backup'**"
      ]
    },
    {
      "cell_type": "code",
      "metadata": {
        "id": "2rUSn4Oxz_qC"
      },
      "source": [
        "!ln -s /content/drive/'My Drive'/cov_weights/backup /content/darknet"
      ],
      "execution_count": null,
      "outputs": []
    },
    {
      "cell_type": "markdown",
      "metadata": {
        "id": "KrrjL2oG1K3c"
      },
      "source": [
        "**check the directory**"
      ]
    },
    {
      "cell_type": "code",
      "metadata": {
        "id": "IFZwhp_v0FN-"
      },
      "source": [
        "%pwd"
      ],
      "execution_count": null,
      "outputs": []
    },
    {
      "cell_type": "markdown",
      "metadata": {
        "id": "-07zjiWFBugo"
      },
      "source": [
        "**Proceed with fresh training using the cov dataset**"
      ]
    },
    {
      "cell_type": "code",
      "metadata": {
        "id": "EAnsUNaI0WTH"
      },
      "source": [
        "!./darknet detector train cov_data/cov.data cov_yolov4.cfg yolov4.conv.137 -map -dont_show"
      ],
      "execution_count": null,
      "outputs": []
    },
    {
      "cell_type": "markdown",
      "metadata": {
        "id": "Dn3ICgMAmVDK"
      },
      "source": [
        "**Resume training from the last best weight file if required**"
      ]
    },
    {
      "cell_type": "code",
      "metadata": {
        "id": "vNhaAaDb0msD"
      },
      "source": [
        "#!./darknet detector train cov_data/cov.data cov_yolov4.cfg /content/drive/'My Drive'/cov_weights/backup/cov_yolov4_best.weights -map -dont_show"
      ],
      "execution_count": null,
      "outputs": []
    }
  ]
}